{
 "cells": [
  {
   "cell_type": "code",
   "execution_count": 1,
   "id": "135fc14f",
   "metadata": {},
   "outputs": [
    {
     "name": "stdout",
     "output_type": "stream",
     "text": [
      "Extraction Complete\n"
     ]
    }
   ],
   "source": [
    "# Extracting the Zip File to Get Access to the Data\n",
    "import zipfile\n",
    "with zipfile.ZipFile(\"store-sales-time-series-forecasting.zip\",\"r\") as zip_loaded:\n",
    "    zip_loaded.extractall(\"files/\")\n",
    "\n",
    "print(\"Extraction Complete\")"
   ]
  },
  {
   "cell_type": "code",
   "execution_count": 2,
   "id": "250dffaa",
   "metadata": {},
   "outputs": [],
   "source": [
    "# Importing and loading relevant libraries and packages\n",
    "import pandas as pd\n",
    "import numpy as np\n",
    "import seaborn as sns\n",
    "import matplotlib as plt"
   ]
  },
  {
   "cell_type": "markdown",
   "id": "a58fbf8c",
   "metadata": {},
   "source": [
    "**Previewing & exploring the files**"
   ]
  },
  {
   "cell_type": "markdown",
   "id": "b64d9bd4",
   "metadata": {},
   "source": [
    "**Train data and complementary data**"
   ]
  },
  {
   "cell_type": "code",
   "execution_count": null,
   "id": "55cab31f",
   "metadata": {
    "scrolled": false
   },
   "outputs": [],
   "source": [
    "train_data = pd.read_csv(\"files/train.csv\")\n",
    "train_data"
   ]
  },
  {
   "cell_type": "code",
   "execution_count": null,
   "id": "007d0811",
   "metadata": {
    "scrolled": false
   },
   "outputs": [],
   "source": [
    "train_data.info()"
   ]
  },
  {
   "cell_type": "code",
   "execution_count": null,
   "id": "96857238",
   "metadata": {},
   "outputs": [],
   "source": [
    "print(train_data.date.nunique(), \"\\n\")\n",
    "print(train_data.store_nbr.nunique(), \"\\n\")"
   ]
  },
  {
   "cell_type": "code",
   "execution_count": null,
   "id": "59a72cc0",
   "metadata": {},
   "outputs": [],
   "source": [
    "train_data.date.unique()"
   ]
  },
  {
   "cell_type": "code",
   "execution_count": null,
   "id": "f7eb3721",
   "metadata": {
    "scrolled": false
   },
   "outputs": [],
   "source": [
    "transactions = pd.read_csv(\"files/transactions.csv\")\n",
    "transactions"
   ]
  },
  {
   "cell_type": "code",
   "execution_count": null,
   "id": "f8dd8835",
   "metadata": {},
   "outputs": [],
   "source": []
  },
  {
   "cell_type": "code",
   "execution_count": null,
   "id": "724d824f",
   "metadata": {},
   "outputs": [],
   "source": [
    "holidays_events = pd.read_csv(\"files/holidays_events.csv\")\n",
    "holidays_events"
   ]
  },
  {
   "cell_type": "code",
   "execution_count": null,
   "id": "bd611e66",
   "metadata": {},
   "outputs": [],
   "source": []
  },
  {
   "cell_type": "code",
   "execution_count": null,
   "id": "43130e80",
   "metadata": {},
   "outputs": [],
   "source": [
    "oil_data = pd.read_csv(\"files/oil.csv\")\n",
    "oil_data"
   ]
  },
  {
   "cell_type": "code",
   "execution_count": null,
   "id": "24e9b0cd",
   "metadata": {},
   "outputs": [],
   "source": []
  },
  {
   "cell_type": "code",
   "execution_count": null,
   "id": "14a71b24",
   "metadata": {
    "scrolled": true
   },
   "outputs": [],
   "source": [
    "stores_data = pd.read_csv(\"files/stores.csv\")\n",
    "stores_data"
   ]
  },
  {
   "cell_type": "code",
   "execution_count": null,
   "id": "057645ba",
   "metadata": {},
   "outputs": [],
   "source": []
  },
  {
   "cell_type": "markdown",
   "id": "21f3798b",
   "metadata": {},
   "source": [
    "**Test data and Sample Submission**"
   ]
  },
  {
   "cell_type": "code",
   "execution_count": null,
   "id": "1e5f798d",
   "metadata": {
    "scrolled": false
   },
   "outputs": [],
   "source": [
    "test_data = pd.read_csv(\"files/test.csv\")\n",
    "test_data"
   ]
  },
  {
   "cell_type": "code",
   "execution_count": null,
   "id": "1f2b153f",
   "metadata": {},
   "outputs": [],
   "source": []
  },
  {
   "cell_type": "code",
   "execution_count": null,
   "id": "2b73f9b0",
   "metadata": {},
   "outputs": [],
   "source": [
    "sample_submission = pd.read_csv(\"files/sample_submission.csv\")\n",
    "sample_submission"
   ]
  },
  {
   "cell_type": "code",
   "execution_count": null,
   "id": "e63f0606",
   "metadata": {},
   "outputs": [],
   "source": []
  },
  {
   "cell_type": "code",
   "execution_count": null,
   "id": "e4121040",
   "metadata": {},
   "outputs": [],
   "source": []
  },
  {
   "cell_type": "code",
   "execution_count": null,
   "id": "69809c7e",
   "metadata": {},
   "outputs": [],
   "source": []
  },
  {
   "cell_type": "code",
   "execution_count": null,
   "id": "640b3a17",
   "metadata": {},
   "outputs": [],
   "source": []
  }
 ],
 "metadata": {
  "kernelspec": {
   "display_name": "Python 3 (ipykernel)",
   "language": "python",
   "name": "python3"
  },
  "language_info": {
   "codemirror_mode": {
    "name": "ipython",
    "version": 3
   },
   "file_extension": ".py",
   "mimetype": "text/x-python",
   "name": "python",
   "nbconvert_exporter": "python",
   "pygments_lexer": "ipython3",
   "version": "3.9.7"
  }
 },
 "nbformat": 4,
 "nbformat_minor": 5
}
